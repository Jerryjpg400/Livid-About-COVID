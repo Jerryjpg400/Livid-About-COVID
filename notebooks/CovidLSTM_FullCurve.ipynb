{
 "cells": [
  {
   "cell_type": "code",
   "execution_count": 1,
   "metadata": {},
   "outputs": [
    {
     "name": "stderr",
     "output_type": "stream",
     "text": [
      "Using TensorFlow backend.\n"
     ]
    }
   ],
   "source": [
    "import numpy as np\n",
    "import matplotlib.pyplot as plt\n",
    "import pandas\n",
    "import math\n",
    "from keras.models import Sequential, Model\n",
    "from keras.layers import Dense,LSTM,Concatenate,Layer,Lambda,Input,Multiply,SimpleRNN,GRU\n",
    "from sklearn.preprocessing import MinMaxScaler\n",
    "from sklearn.metrics import mean_squared_error"
   ]
  },
  {
   "cell_type": "code",
   "execution_count": 2,
   "metadata": {},
   "outputs": [],
   "source": [
    "from os.path import join as pjoin\n",
    "DATA_DIR = pjoin('..', 'data')\n",
    "MAX_CSV = pjoin(DATA_DIR, 'MaxV_10.csv')\n",
    "DAT_CSV = pjoin(DATA_DIR, 'Data319.csv')\n",
    "\n",
    "dataframeMV = pandas.read_csv(MAX_CSV, header=None, engine='python')\n",
    "datasetMV = dataframeMV.values\n",
    "datasetMV = datasetMV.astype('float32')\n",
    "maxA = datasetMV[0,:]\n",
    "maxT = datasetMV[1,:]"
   ]
  },
  {
   "cell_type": "code",
   "execution_count": 3,
   "metadata": {},
   "outputs": [],
   "source": [
    "def create_dataset(ns):\n",
    "    dataX, dataY = [], []\n",
    "    maxD = 0\n",
    "    minD = 10000\n",
    "    for c in ns:\n",
    "        dataframe = pandas.read_csv(DAT_CSV, usecols=[int(c)], engine='python')\n",
    "        dataframe.dropna(how='all',inplace=True)\n",
    "        dataset = dataframe.values\n",
    "        dataset = dataset.astype('float32')\n",
    "        sql = len(dataset)\n",
    "        if np.max(dataset) > maxD:\n",
    "            maxD = np.max(dataset)\n",
    "        if np.min(dataset) < minD:\n",
    "            minD = np.min(dataset)\n",
    "        a = dataset[:sql-1,0]\n",
    "        b = dataset[1:sql,0]\n",
    "        #a = np.reshape(a,(sql-1,1))\n",
    "        #b = np.reshape(b,(sql-1,1))\n",
    "        dataX.append(a)\n",
    "        dataY.append(b)\n",
    "    return np.array(dataX), np.array(dataY), minD, maxD\n",
    "\n",
    "def create_dataset_mscale(ns,maxDV,minD):\n",
    "    dataX, dataY = [], []\n",
    "    for c in ns:\n",
    "        #print(c)\n",
    "        dn = int(c/5)\n",
    "        #print(dn)\n",
    "        maxD = maxDV[dn]\n",
    "        dataframe = pandas.read_csv(DAT_CSV, usecols=[int(c)], engine='python')\n",
    "        dataframe.dropna(how='all',inplace=True)\n",
    "        dataset = dataframe.values\n",
    "        dataset = dataset.astype('float32')\n",
    "        dataset = (dataset - minD)/(maxD-minD)\n",
    "        sql = len(dataset)\n",
    "        a = dataset[:sql-1,0]\n",
    "        b = dataset[1:sql,0]\n",
    "        #a = np.reshape(a,(sql-1,1))\n",
    "        #b = np.reshape(b,(sql-1,1))\n",
    "        dataX.append(a)\n",
    "        dataY.append(b)\n",
    "    return np.array(dataX), np.array(dataY)"
   ]
  },
  {
   "cell_type": "code",
   "execution_count": 4,
   "metadata": {},
   "outputs": [],
   "source": [
    "ActiveLoc = np.asarray(np.linspace(0,235,48))\n",
    "#ActiveLoc = [200]\n",
    "TotalLoc = np.asarray(ActiveLoc) + 1\n",
    "PopLoc = np.asarray(ActiveLoc) + 3\n",
    "MedLoc = np.asarray(ActiveLoc) + 4"
   ]
  },
  {
   "cell_type": "code",
   "execution_count": 5,
   "metadata": {},
   "outputs": [],
   "source": [
    "lb = 5\n",
    "\n",
    "trainActive, targetActive = create_dataset_mscale(ActiveLoc,maxA,0)\n",
    "\n",
    "trainTotal, targetTotal = create_dataset_mscale(TotalLoc,maxT,0)\n",
    "\n",
    "trainPop, targetPop, minPop, maxPop = create_dataset(PopLoc)\n",
    "#maxPop = (np.max(targetPop))\n",
    "#minPop = np.min(trainPop)\n",
    "trainPop = (trainPop - minPop)/(maxPop - minPop)\n",
    "targetPop = (targetPop - minPop)/(maxPop - minPop)\n",
    "\n",
    "trainMed, targetMed, minMed, maxMed = create_dataset(MedLoc)\n",
    "#maxMed = np.max(targetMed)\n",
    "#minMed = np.min(trainMed)\n",
    "trainMed = (trainMed - minMed)/(maxMed - minMed)\n",
    "targetMed = (targetMed - minMed)/(maxMed - minMed)"
   ]
  },
  {
   "cell_type": "code",
   "execution_count": 6,
   "metadata": {},
   "outputs": [
    {
     "name": "stdout",
     "output_type": "stream",
     "text": [
      "Model: \"model_1\"\n",
      "__________________________________________________________________________________________________\n",
      "Layer (type)                    Output Shape         Param #     Connected to                     \n",
      "==================================================================================================\n",
      "input_1 (InputLayer)            (None, None, 4)      0                                            \n",
      "__________________________________________________________________________________________________\n",
      "RecIn (Lambda)                  (None, None, 2)      0           input_1[0][0]                    \n",
      "__________________________________________________________________________________________________\n",
      "HIn (Lambda)                    (None, None, 2)      0           input_1[0][0]                    \n",
      "__________________________________________________________________________________________________\n",
      "lstm_1 (LSTM)                   (None, None, 20)     1840        RecIn[0][0]                      \n",
      "__________________________________________________________________________________________________\n",
      "dense_1 (Dense)                 (None, None, 20)     60          HIn[0][0]                        \n",
      "__________________________________________________________________________________________________\n",
      "concatenate_1 (Concatenate)     (None, None, 40)     0           lstm_1[0][0]                     \n",
      "                                                                 dense_1[0][0]                    \n",
      "__________________________________________________________________________________________________\n",
      "dense_2 (Dense)                 (None, None, 2)      82          concatenate_1[0][0]              \n",
      "==================================================================================================\n",
      "Total params: 1,982\n",
      "Trainable params: 1,982\n",
      "Non-trainable params: 0\n",
      "__________________________________________________________________________________________________\n"
     ]
    }
   ],
   "source": [
    "AllInput = Input(shape=(None,4))\n",
    "RecInput = Lambda(lambda AllInput:AllInput[:,:,:2],name='RecIn')(AllInput)\n",
    "HidInput = Lambda(lambda AllInput:AllInput[:,:,2:],name='HIn')(AllInput)\n",
    "H = LSTM(20, input_shape=(None,2),return_sequences=True)(RecInput)\n",
    "\n",
    "D2 = Dense(20,activation='softmax')(HidInput)\n",
    "Data = Concatenate()([H,D2])\n",
    "out = Dense(2,activation='relu')(Data)\n",
    "\n",
    "CoVid = Model(AllInput,out)\n",
    "CoVid.summary()\n",
    "CoVid.compile(loss='mean_squared_error', optimizer='adam')"
   ]
  },
  {
   "cell_type": "code",
   "execution_count": 7,
   "metadata": {},
   "outputs": [],
   "source": [
    "# Loop through each training curve from different regions\n",
    "# Treat each region as a single batch... \n",
    "# Reformat into trainX (1,time_steps,features) and trainY  (time_steps,features)\n",
    "\n",
    "for e in range(100):\n",
    "    for r in range(48):\n",
    "        f1 = np.reshape(trainActive[r],(1,trainActive[r].shape[0],1))\n",
    "        f2 = np.reshape(trainTotal[r],(1,trainTotal[r].shape[0],1))\n",
    "        f3 = np.reshape(trainPop[r],(1,trainPop[r].shape[0],1))\n",
    "        f4 = np.reshape(trainMed[r],(1,trainMed[r].shape[0],1))\n",
    "        trainX = np.concatenate((f1,f2,f3,f4),axis=2)\n",
    "\n",
    "        t1 = np.reshape(targetActive[r],(1,targetActive[r].shape[0],1))\n",
    "        t2 = np.reshape(targetTotal[r],(1,targetTotal[r].shape[0],1))\n",
    "        trainY = np.concatenate((t1,t2),axis=2)\n",
    "    \n",
    "        CoVid.train_on_batch(trainX, trainY)"
   ]
  },
  {
   "cell_type": "code",
   "execution_count": 8,
   "metadata": {},
   "outputs": [
    {
     "name": "stdout",
     "output_type": "stream",
     "text": [
      "Model: \"model_2\"\n",
      "__________________________________________________________________________________________________\n",
      "Layer (type)                    Output Shape         Param #     Connected to                     \n",
      "==================================================================================================\n",
      "input_2 (InputLayer)            (1, None, 4)         0                                            \n",
      "__________________________________________________________________________________________________\n",
      "RecIn (Lambda)                  (1, None, 2)         0           input_2[0][0]                    \n",
      "__________________________________________________________________________________________________\n",
      "HIn (Lambda)                    (1, 2)               0           input_2[0][0]                    \n",
      "__________________________________________________________________________________________________\n",
      "lstm_2 (LSTM)                   (1, 20)              1840        RecIn[0][0]                      \n",
      "__________________________________________________________________________________________________\n",
      "dense_3 (Dense)                 (1, 20)              60          HIn[0][0]                        \n",
      "__________________________________________________________________________________________________\n",
      "concatenate_2 (Concatenate)     (1, 40)              0           lstm_2[0][0]                     \n",
      "                                                                 dense_3[0][0]                    \n",
      "__________________________________________________________________________________________________\n",
      "dense_4 (Dense)                 (1, 2)               82          concatenate_2[0][0]              \n",
      "==================================================================================================\n",
      "Total params: 1,982\n",
      "Trainable params: 1,982\n",
      "Non-trainable params: 0\n",
      "__________________________________________________________________________________________________\n"
     ]
    }
   ],
   "source": [
    "AllInputI = Input(batch_shape=(1,None,4))\n",
    "RecInputI = Lambda(lambda AllInput:AllInput[:,:,:2],name='RecIn')(AllInputI)\n",
    "HidInputI = Lambda(lambda AllInput:AllInput[:,0,2:],name='HIn')(AllInputI)\n",
    "HI = LSTM(20, input_shape=(None,2),return_sequences=False,stateful=True)(RecInputI)\n",
    "\n",
    "D2I = Dense(20,activation='softmax')(HidInputI)\n",
    "DataI = Concatenate()([HI,D2I])\n",
    "outI = Dense(2,activation='relu')(DataI)\n",
    "\n",
    "CoVidI = Model(AllInputI,outI)\n",
    "CoVidI.summary()\n",
    "\n",
    "WT = CoVid.get_weights()\n",
    "CoVidI.set_weights(WT)"
   ]
  },
  {
   "cell_type": "code",
   "execution_count": 9,
   "metadata": {},
   "outputs": [
    {
     "data": {
      "image/png": "[encoded data removed]",
      "text/plain": [
       "<Figure size 432x288 with 1 Axes>"
      ]
     },
     "metadata": {
      "needs_background": "light"
     },
     "output_type": "display_data"
    }
   ],
   "source": [
    "r = 255\n",
    "maxLoc = int(r/5)\n",
    "minAT = 0\n",
    "minTT = 0\n",
    "\n",
    "testActive, targetActiveT = create_dataset_mscale([r],maxA,minAT)\n",
    "testTotal, targetTotalT = create_dataset_mscale([r+1],maxT,minTT)\n",
    "testPop, targetPopT, nv1, nv2 = create_dataset([r+3])\n",
    "testMed, targetMedT, nv3, nv4 = create_dataset([r+4])\n",
    "\n",
    "testPop = (testPop - minPop)/(maxPop - minPop)\n",
    "targetPopT = (targetPopT - minPop)/(maxPop - minPop)\n",
    "testMed = (testMed - minMed)/(maxMed - minMed)\n",
    "targetMedT = (targetMedT - minMed)/(maxMed - minMed)\n",
    "\n",
    "gtl = testActive[0].shape[0]\n",
    "\n",
    "f1 = np.reshape(testActive[0],(1,testActive[0].shape[0],1))\n",
    "f2 = np.reshape(testTotal[0],(1,testTotal[0].shape[0],1))\n",
    "f3 = np.reshape(testPop[0],(1,testPop[0].shape[0],1))\n",
    "f4 = np.reshape(testMed[0],(1,testMed[0].shape[0],1))\n",
    "testX = np.concatenate((f1,f2,f3,f4),axis=2)\n",
    "\n",
    "t1 = np.reshape(targetActiveT[0],(1,targetActiveT[0].shape[0],1))\n",
    "t2 = np.reshape(targetTotalT[0],(1,targetTotalT[0].shape[0],1))\n",
    "testY = np.concatenate((t1,t2),axis=2)\n",
    "\n",
    "fcl = 90\n",
    "\n",
    "totalPredictT = np.zeros((1,fcl))\n",
    "activePredictT = np.zeros((1,fcl))\n",
    "\n",
    "\n",
    "for tp in range(fcl):\n",
    "    if tp < gtl:\n",
    "        initX = testX[0,tp,:]\n",
    "        initX = np.reshape(initX,(1,1,4))\n",
    "        singlePredict = CoVidI.predict(initX)\n",
    "    else:\n",
    "        ci = np.reshape(initX[0,0,2:],(1,2))\n",
    "        initX = np.concatenate((singlePredict,ci),axis=1)\n",
    "        initX = np.reshape(initX,(1,1,4))\n",
    "        singlePredict = CoVidI.predict(initX)\n",
    "            \n",
    "    totalPredictT[0,tp] = np.float32(singlePredict[0][1])\n",
    "    activePredictT[0,tp] = np.float32(singlePredict[0][0])\n",
    "\n",
    "\n",
    "\n",
    "plt.plot(activePredictT[0,:]*maxA[maxLoc]*28300000)\n",
    "plt.plot(totalPredictT[0,:]*maxT[maxLoc]*28300000)\n",
    "plt.plot(testY[:,0]*maxA[maxLoc]*28300000)\n",
    "plt.plot(testY[:,1]*maxT[maxLoc]*28300000)\n",
    "plt.xlabel('Days')\n",
    "plt.ylabel('Contamination')\n",
    "plt.title('Forecast from start of disease (5-days)')\n",
    "plt.legend(['Active_P','Total_P','Active_GT','Total_GT'])\n",
    "plt.show()"
   ]
  },
  {
   "cell_type": "code",
   "execution_count": null,
   "metadata": {},
   "outputs": [],
   "source": []
  }
 ],
 "metadata": {
  "kernelspec": {
   "display_name": "Python 3",
   "language": "python",
   "name": "python3"
  },
  "language_info": {
   "codemirror_mode": {
    "name": "ipython",
    "version": 3
   },
   "file_extension": ".py",
   "mimetype": "text/x-python",
   "name": "python",
   "nbconvert_exporter": "python",
   "pygments_lexer": "ipython3",
   "version": "3.7.6"
  }
 },
 "nbformat": 4,
 "nbformat_minor": 2
}
